{
  "cells": [
    {
      "cell_type": "markdown",
      "metadata": {
        "id": "uQeAea_2VSnb"
      },
      "source": [
        "#DESCRIPTIVE STATISTICS : PREPARATION AND ANALYSIS OF DATA#\n",
        "\n",
        "* **AUTHOR**     : Aakash Kathirvel             \n",
        "\n",
        "* **VID**        : V01110153\n",
        "\n",
        "* **CREATED ON** : 06/16/2024"
      ]
    },
    {
      "cell_type": "markdown",
      "metadata": {
        "id": "-pSvw0-ZW9IJ"
      },
      "source": [
        "**PROBLEM STATEMENT**: ANALYSIS OF COMSUMPTION IN THE STATE OF MEGHALAYA(STATE CODE-17)\n",
        "\n",
        "\n",
        "**ABOUT DATASET** : This dataset is about 68th round of National Sample Survey Organisation (NSSO) survey"
      ]
    },
    {
      "cell_type": "code",
      "execution_count": 293,
      "metadata": {
        "id": "3f-GcNAC9QL3"
      },
      "outputs": [],
      "source": [
        "#IMPORTING REQUIRED PACKAGES\n",
        "import pandas as pd\n",
        "import numpy as np\n",
        "import matplotlib.pyplot as plt\n",
        "import seaborn as sns\n",
        "import os"
      ]
    },
    {
      "cell_type": "code",
      "execution_count": 294,
      "metadata": {
        "id": "f_Szfg5K98sw"
      },
      "outputs": [],
      "source": [
        "import warnings\n",
        "warnings.filterwarnings(\"ignore\")"
      ]
    },
    {
      "cell_type": "code",
      "execution_count": 295,
      "metadata": {
        "id": "axWJTs8W9-sK"
      },
      "outputs": [],
      "source": [
        "#READING ONLY BIHAR DATA FROM NSS068 DATSET\n",
        "MEGData = pd.read_csv(\"NSSO68.csv\")"
      ]
    },
    {
      "cell_type": "code",
      "execution_count": 296,
      "metadata": {
        "colab": {
          "base_uri": "https://localhost:8080/",
          "height": 255
        },
        "collapsed": true,
        "id": "03GZaqu3-v1J",
        "outputId": "2a9ac363-a269-4d17-9659-c738aa09d828"
      },
      "outputs": [
        {
          "data": {
            "text/html": [
              "<div>\n",
              "<style scoped>\n",
              "    .dataframe tbody tr th:only-of-type {\n",
              "        vertical-align: middle;\n",
              "    }\n",
              "\n",
              "    .dataframe tbody tr th {\n",
              "        vertical-align: top;\n",
              "    }\n",
              "\n",
              "    .dataframe thead th {\n",
              "        text-align: right;\n",
              "    }\n",
              "</style>\n",
              "<table border=\"1\" class=\"dataframe\">\n",
              "  <thead>\n",
              "    <tr style=\"text-align: right;\">\n",
              "      <th></th>\n",
              "      <th>slno</th>\n",
              "      <th>grp</th>\n",
              "      <th>Round_Centre</th>\n",
              "      <th>FSU_number</th>\n",
              "      <th>Round</th>\n",
              "      <th>Schedule_Number</th>\n",
              "      <th>Sample</th>\n",
              "      <th>Sector</th>\n",
              "      <th>state</th>\n",
              "      <th>State_Region</th>\n",
              "      <th>...</th>\n",
              "      <th>pickle_v</th>\n",
              "      <th>sauce_jam_v</th>\n",
              "      <th>Othrprocessed_v</th>\n",
              "      <th>Beveragestotal_v</th>\n",
              "      <th>foodtotal_v</th>\n",
              "      <th>foodtotal_q</th>\n",
              "      <th>state_1</th>\n",
              "      <th>Region</th>\n",
              "      <th>fruits_df_tt_v</th>\n",
              "      <th>fv_tot</th>\n",
              "    </tr>\n",
              "  </thead>\n",
              "  <tbody>\n",
              "    <tr>\n",
              "      <th>0</th>\n",
              "      <td>1</td>\n",
              "      <td>40999999999999992652495293775872.0</td>\n",
              "      <td>1</td>\n",
              "      <td>41000</td>\n",
              "      <td>68</td>\n",
              "      <td>10</td>\n",
              "      <td>1</td>\n",
              "      <td>2</td>\n",
              "      <td>24</td>\n",
              "      <td>242</td>\n",
              "      <td>...</td>\n",
              "      <td>0.0</td>\n",
              "      <td>0.0</td>\n",
              "      <td>0.0</td>\n",
              "      <td>0.000000</td>\n",
              "      <td>1141.492400</td>\n",
              "      <td>30.942394</td>\n",
              "      <td>GUJ</td>\n",
              "      <td>2</td>\n",
              "      <td>12.000000</td>\n",
              "      <td>154.18</td>\n",
              "    </tr>\n",
              "    <tr>\n",
              "      <th>1</th>\n",
              "      <td>2</td>\n",
              "      <td>40999999999999992652495293775872.0</td>\n",
              "      <td>1</td>\n",
              "      <td>41000</td>\n",
              "      <td>68</td>\n",
              "      <td>10</td>\n",
              "      <td>1</td>\n",
              "      <td>2</td>\n",
              "      <td>24</td>\n",
              "      <td>242</td>\n",
              "      <td>...</td>\n",
              "      <td>0.0</td>\n",
              "      <td>0.0</td>\n",
              "      <td>0.0</td>\n",
              "      <td>17.500000</td>\n",
              "      <td>1244.553500</td>\n",
              "      <td>29.286153</td>\n",
              "      <td>GUJ</td>\n",
              "      <td>2</td>\n",
              "      <td>333.000000</td>\n",
              "      <td>484.95</td>\n",
              "    </tr>\n",
              "    <tr>\n",
              "      <th>2</th>\n",
              "      <td>3</td>\n",
              "      <td>40999999999999992652495293775872.0</td>\n",
              "      <td>1</td>\n",
              "      <td>41000</td>\n",
              "      <td>68</td>\n",
              "      <td>10</td>\n",
              "      <td>1</td>\n",
              "      <td>2</td>\n",
              "      <td>24</td>\n",
              "      <td>242</td>\n",
              "      <td>...</td>\n",
              "      <td>0.0</td>\n",
              "      <td>0.0</td>\n",
              "      <td>0.0</td>\n",
              "      <td>0.000000</td>\n",
              "      <td>1050.315400</td>\n",
              "      <td>31.527046</td>\n",
              "      <td>GUJ</td>\n",
              "      <td>2</td>\n",
              "      <td>35.000000</td>\n",
              "      <td>214.84</td>\n",
              "    </tr>\n",
              "    <tr>\n",
              "      <th>3</th>\n",
              "      <td>4</td>\n",
              "      <td>40999999999999992652495293775872.0</td>\n",
              "      <td>1</td>\n",
              "      <td>41000</td>\n",
              "      <td>68</td>\n",
              "      <td>10</td>\n",
              "      <td>1</td>\n",
              "      <td>2</td>\n",
              "      <td>24</td>\n",
              "      <td>242</td>\n",
              "      <td>...</td>\n",
              "      <td>0.0</td>\n",
              "      <td>0.0</td>\n",
              "      <td>0.0</td>\n",
              "      <td>33.333333</td>\n",
              "      <td>1142.591667</td>\n",
              "      <td>27.834607</td>\n",
              "      <td>GUJ</td>\n",
              "      <td>2</td>\n",
              "      <td>168.333333</td>\n",
              "      <td>302.30</td>\n",
              "    </tr>\n",
              "    <tr>\n",
              "      <th>4</th>\n",
              "      <td>5</td>\n",
              "      <td>40999999999999992652495293775872.0</td>\n",
              "      <td>1</td>\n",
              "      <td>41000</td>\n",
              "      <td>68</td>\n",
              "      <td>10</td>\n",
              "      <td>1</td>\n",
              "      <td>2</td>\n",
              "      <td>24</td>\n",
              "      <td>242</td>\n",
              "      <td>...</td>\n",
              "      <td>0.0</td>\n",
              "      <td>0.0</td>\n",
              "      <td>0.0</td>\n",
              "      <td>75.000000</td>\n",
              "      <td>945.249500</td>\n",
              "      <td>27.600713</td>\n",
              "      <td>GUJ</td>\n",
              "      <td>2</td>\n",
              "      <td>15.000000</td>\n",
              "      <td>148.00</td>\n",
              "    </tr>\n",
              "  </tbody>\n",
              "</table>\n",
              "<p>5 rows × 384 columns</p>\n",
              "</div>"
            ],
            "text/plain": [
              "   slno                                 grp  Round_Centre  FSU_number  Round  \\\n",
              "0     1  40999999999999992652495293775872.0             1       41000     68   \n",
              "1     2  40999999999999992652495293775872.0             1       41000     68   \n",
              "2     3  40999999999999992652495293775872.0             1       41000     68   \n",
              "3     4  40999999999999992652495293775872.0             1       41000     68   \n",
              "4     5  40999999999999992652495293775872.0             1       41000     68   \n",
              "\n",
              "   Schedule_Number  Sample  Sector  state  State_Region  ...  pickle_v  \\\n",
              "0               10       1       2     24           242  ...       0.0   \n",
              "1               10       1       2     24           242  ...       0.0   \n",
              "2               10       1       2     24           242  ...       0.0   \n",
              "3               10       1       2     24           242  ...       0.0   \n",
              "4               10       1       2     24           242  ...       0.0   \n",
              "\n",
              "   sauce_jam_v  Othrprocessed_v  Beveragestotal_v  foodtotal_v  foodtotal_q  \\\n",
              "0          0.0              0.0          0.000000  1141.492400    30.942394   \n",
              "1          0.0              0.0         17.500000  1244.553500    29.286153   \n",
              "2          0.0              0.0          0.000000  1050.315400    31.527046   \n",
              "3          0.0              0.0         33.333333  1142.591667    27.834607   \n",
              "4          0.0              0.0         75.000000   945.249500    27.600713   \n",
              "\n",
              "   state_1  Region  fruits_df_tt_v  fv_tot  \n",
              "0      GUJ       2       12.000000  154.18  \n",
              "1      GUJ       2      333.000000  484.95  \n",
              "2      GUJ       2       35.000000  214.84  \n",
              "3      GUJ       2      168.333333  302.30  \n",
              "4      GUJ       2       15.000000  148.00  \n",
              "\n",
              "[5 rows x 384 columns]"
            ]
          },
          "execution_count": 296,
          "metadata": {},
          "output_type": "execute_result"
        }
      ],
      "source": [
        "MEGData.head()"
      ]
    },
    {
      "cell_type": "code",
      "execution_count": 297,
      "metadata": {},
      "outputs": [],
      "source": [
        "meg = MEGData[MEGData['state_1']==\"MEG\"]"
      ]
    },
    {
      "cell_type": "code",
      "execution_count": 298,
      "metadata": {
        "colab": {
          "base_uri": "https://localhost:8080/"
        },
        "id": "uIEbrY6V-1GR",
        "outputId": "ab5d9a86-8047-47f7-8d02-f7f73c1f9a66"
      },
      "outputs": [
        {
          "data": {
            "text/plain": [
              "array([17], dtype=int64)"
            ]
          },
          "execution_count": 298,
          "metadata": {},
          "output_type": "execute_result"
        }
      ],
      "source": [
        "meg.state.unique()"
      ]
    },
    {
      "cell_type": "code",
      "execution_count": 299,
      "metadata": {
        "colab": {
          "base_uri": "https://localhost:8080/"
        },
        "id": "C66Vb3FQ-6JU",
        "outputId": "f6d0a41c-6bcf-4038-da62-c695a146be60"
      },
      "outputs": [
        {
          "data": {
            "text/plain": [
              "(1259, 384)"
            ]
          },
          "execution_count": 299,
          "metadata": {},
          "output_type": "execute_result"
        }
      ],
      "source": [
        "meg.shape"
      ]
    },
    {
      "cell_type": "markdown",
      "metadata": {
        "id": "RJ-usjyzAyXk"
      },
      "source": [
        "#CHECK FOR MISSING VALUES #\n"
      ]
    },
    {
      "cell_type": "code",
      "execution_count": 300,
      "metadata": {
        "colab": {
          "base_uri": "https://localhost:8080/"
        },
        "id": "pVnfYqmg5jXG",
        "outputId": "afbeaba1-2bcf-4442-f506-5006c06a1fdf"
      },
      "outputs": [
        {
          "data": {
            "text/plain": [
              "soyabean_v                    1259\n",
              "soyabean_q                    1259\n",
              "Otherwise_possessed           1255\n",
              "Land_Leased_out               1203\n",
              "During_July_June_Irrigated    1045\n",
              "                              ... \n",
              "chillig_q                        0\n",
              "palak_q                          0\n",
              "carrot_q                         0\n",
              "radish_q                         0\n",
              "fv_tot                           0\n",
              "Length: 384, dtype: int64"
            ]
          },
          "execution_count": 300,
          "metadata": {},
          "output_type": "execute_result"
        }
      ],
      "source": [
        "meg.isnull().sum().sort_values(ascending = False)"
      ]
    },
    {
      "cell_type": "code",
      "execution_count": 301,
      "metadata": {
        "id": "wQlJSS0C6W2v"
      },
      "outputs": [],
      "source": [
        "#SUBSETTING ONLY CONSUMPTION RELATED VARIABLES\n",
        "MEG = meg[['state_1', 'District', 'Sector','Region','State_Region','ricetotal_q','wheattotal_q','moong_q','Milktotal_q','chicken_q','bread_q','foodtotal_q','Beveragestotal_v','Meals_At_Home']]"
      ]
    },
    {
      "cell_type": "code",
      "execution_count": 302,
      "metadata": {
        "colab": {
          "base_uri": "https://localhost:8080/"
        },
        "id": "zNDnWjau6W1M",
        "outputId": "7d2941dc-d005-4808-8441-5bfa30360a2d"
      },
      "outputs": [
        {
          "data": {
            "text/plain": [
              "Meals_At_Home       8\n",
              "state_1             0\n",
              "District            0\n",
              "Sector              0\n",
              "Region              0\n",
              "State_Region        0\n",
              "ricetotal_q         0\n",
              "wheattotal_q        0\n",
              "moong_q             0\n",
              "Milktotal_q         0\n",
              "chicken_q           0\n",
              "bread_q             0\n",
              "foodtotal_q         0\n",
              "Beveragestotal_v    0\n",
              "dtype: int64"
            ]
          },
          "execution_count": 302,
          "metadata": {},
          "output_type": "execute_result"
        }
      ],
      "source": [
        "MEG.isnull().sum().sort_values(ascending = False)"
      ]
    },
    {
      "cell_type": "markdown",
      "metadata": {
        "id": "L98u5p5O7AQf"
      },
      "source": [
        "***INFERENCE*** : Among the subsetted consumption variables only \"Meals_At_Home\" variable consists of 8 missing values which has to be handled."
      ]
    },
    {
      "cell_type": "markdown",
      "metadata": {
        "id": "Cjp_5_LqBAOM"
      },
      "source": [
        "# HANDLING MISSING VALUES #"
      ]
    },
    {
      "cell_type": "code",
      "execution_count": 303,
      "metadata": {
        "id": "Ouxzi2OM7jgV"
      },
      "outputs": [],
      "source": [
        "MEG_clean = MEG.copy()\n",
        "MEG_clean.loc[:, 'Meals_At_Home'] = MEG_clean['Meals_At_Home'].fillna(MEG['Meals_At_Home'].mean())"
      ]
    },
    {
      "cell_type": "code",
      "execution_count": 304,
      "metadata": {
        "colab": {
          "base_uri": "https://localhost:8080/"
        },
        "id": "782HxX9O8fdf",
        "outputId": "8a8245ea-9dfd-4d1b-8ce1-06bcdfef4210"
      },
      "outputs": [
        {
          "data": {
            "text/plain": [
              "state_1             0\n",
              "District            0\n",
              "Sector              0\n",
              "Region              0\n",
              "State_Region        0\n",
              "ricetotal_q         0\n",
              "wheattotal_q        0\n",
              "moong_q             0\n",
              "Milktotal_q         0\n",
              "chicken_q           0\n",
              "bread_q             0\n",
              "foodtotal_q         0\n",
              "Beveragestotal_v    0\n",
              "Meals_At_Home       0\n",
              "dtype: int64"
            ]
          },
          "execution_count": 304,
          "metadata": {},
          "output_type": "execute_result"
        }
      ],
      "source": [
        "#CHECKING FOR MISSING VALUES AFTER IMPUTATION\n",
        "new_var = MEG_clean.isnull().sum().sort_values(ascending = False)\n",
        "new_var"
      ]
    },
    {
      "cell_type": "markdown",
      "metadata": {
        "id": "3nCt4j70DZe_"
      },
      "source": [
        "#CHECK FOR OUTLIERS#"
      ]
    },
    {
      "cell_type": "code",
      "execution_count": 305,
      "metadata": {
        "colab": {
          "base_uri": "https://localhost:8080/"
        },
        "id": "trcqFvnz9Ayi",
        "outputId": "47f76048-c43a-4fca-b6ee-87800fb84656"
      },
      "outputs": [
        {
          "data": {
            "text/plain": [
              "Index(['state_1', 'District', 'Sector', 'Region', 'State_Region',\n",
              "       'ricetotal_q', 'wheattotal_q', 'moong_q', 'Milktotal_q', 'chicken_q',\n",
              "       'bread_q', 'foodtotal_q', 'Beveragestotal_v', 'Meals_At_Home'],\n",
              "      dtype='object')"
            ]
          },
          "execution_count": 305,
          "metadata": {},
          "output_type": "execute_result"
        }
      ],
      "source": [
        "MEG_clean.columns"
      ]
    },
    {
      "cell_type": "code",
      "execution_count": 306,
      "metadata": {
        "colab": {
          "base_uri": "https://localhost:8080/",
          "height": 564
        },
        "id": "iFySAHll9NU3",
        "outputId": "2df9a404-f627-4f1e-bb3b-7b32ab1a3e5f"
      },
      "outputs": [
        {
          "data": {
            "image/png": "[encoded data removed]",
            "text/plain": [
              "<Figure size 800x600 with 1 Axes>"
            ]
          },
          "metadata": {},
          "output_type": "display_data"
        }
      ],
      "source": [
        "plt.figure(figsize=(8, 6))\n",
        "plt.boxplot(MEG_clean['Beveragestotal_v'])\n",
        "plt.xlabel('Beveragestotal_v')\n",
        "plt.ylabel('Values')\n",
        "plt.title('Boxplot of Beveragestotal_v')\n",
        "plt.show()"
      ]
    },
    {
      "cell_type": "markdown",
      "metadata": {
        "id": "j2o_oi7NHgNI"
      },
      "source": [
        "#HANDLING OULIERS#"
      ]
    },
    {
      "cell_type": "code",
      "execution_count": 307,
      "metadata": {
        "id": "ZN1hDbsX9fNZ"
      },
      "outputs": [],
      "source": [
        "food1 = MEG_clean['Beveragestotal_v'].quantile(0.25)\n",
        "food2 = MEG_clean['Beveragestotal_v'].quantile(0.75)\n",
        "iqr_food = food2-food1\n",
        "up_limit = food2 + 1.5*iqr_food\n",
        "low_limit = food1 - 1.5*iqr_food"
      ]
    },
    {
      "cell_type": "code",
      "execution_count": 308,
      "metadata": {
        "colab": {
          "base_uri": "https://localhost:8080/",
          "height": 489
        },
        "id": "yAnT6T8T9fJW",
        "outputId": "81e4b671-9ab3-4523-cd2b-a1f778a184e1"
      },
      "outputs": [
        {
          "data": {
            "text/plain": [
              "Text(0.5, 1.0, 'Boxplot of Beveragestotal_v')"
            ]
          },
          "execution_count": 308,
          "metadata": {},
          "output_type": "execute_result"
        },
        {
          "data": {
            "image/png": "[encoded data removed]",
            "text/plain": [
              "<Figure size 640x480 with 1 Axes>"
            ]
          },
          "metadata": {},
          "output_type": "display_data"
        }
      ],
      "source": [
        "MEG_clean=MEG[(MEG['Beveragestotal_v']<=up_limit)&(MEG['Beveragestotal_v']>=low_limit)]\n",
        "plt.boxplot(MEG_clean['Beveragestotal_v'])\n",
        "plt.xlabel('Beveragestotal_v')\n",
        "plt.ylabel('Values')\n",
        "plt.title('Boxplot of Beveragestotal_v')"
      ]
    },
    {
      "cell_type": "markdown",
      "metadata": {
        "id": "3F9MpvdITRCt"
      },
      "source": [
        "#SUMMARIZING CRITICAL VARIABLES#"
      ]
    },
    {
      "cell_type": "code",
      "execution_count": 309,
      "metadata": {
        "colab": {
          "base_uri": "https://localhost:8080/"
        },
        "id": "n61SZPT0_aWx",
        "outputId": "079cad68-58be-4ba4-f890-af8cbdea6c46"
      },
      "outputs": [
        {
          "data": {
            "text/plain": [
              "array([6, 5, 4, 7, 3, 2, 1], dtype=int64)"
            ]
          },
          "execution_count": 309,
          "metadata": {},
          "output_type": "execute_result"
        }
      ],
      "source": [
        "MEG_clean['District'].unique()"
      ]
    },
    {
      "cell_type": "code",
      "execution_count": 310,
      "metadata": {
        "id": "l_EMEpcs--mu"
      },
      "outputs": [],
      "source": [
        "MEG_clean.loc[:,'Sector'] = MEG_clean['Sector'].replace([1, 2], ['URBAN', 'RURAL'])"
      ]
    },
    {
      "cell_type": "code",
      "execution_count": 311,
      "metadata": {
        "colab": {
          "base_uri": "https://localhost:8080/"
        },
        "id": "esJHIifQ9fH5",
        "outputId": "a3a64b8f-cdfb-408a-bcde-22fb70237549"
      },
      "outputs": [
        {
          "data": {
            "text/plain": [
              "Index(['state_1', 'District', 'Sector', 'Region', 'State_Region',\n",
              "       'ricetotal_q', 'wheattotal_q', 'moong_q', 'Milktotal_q', 'chicken_q',\n",
              "       'bread_q', 'foodtotal_q', 'Beveragestotal_v', 'Meals_At_Home'],\n",
              "      dtype='object')"
            ]
          },
          "execution_count": 311,
          "metadata": {},
          "output_type": "execute_result"
        }
      ],
      "source": [
        "#total consumption\n",
        "MEG_clean.columns"
      ]
    },
    {
      "cell_type": "code",
      "execution_count": 312,
      "metadata": {
        "id": "ZHpwIXsYFtzj"
      },
      "outputs": [],
      "source": [
        "MEG_clean.loc[:, 'total_consumption'] = MEG_clean[['ricetotal_q', 'wheattotal_q', 'moong_q', 'Milktotal_q', 'chicken_q', 'bread_q', 'foodtotal_q', 'Beveragestotal_v']].sum(axis=1)"
      ]
    },
    {
      "cell_type": "code",
      "execution_count": 313,
      "metadata": {
        "colab": {
          "base_uri": "https://localhost:8080/",
          "height": 206
        },
        "id": "82hYu6pRQc2H",
        "outputId": "612e1c78-8059-4ad9-c41d-8a1882985eb8"
      },
      "outputs": [
        {
          "data": {
            "text/html": [
              "<div>\n",
              "<style scoped>\n",
              "    .dataframe tbody tr th:only-of-type {\n",
              "        vertical-align: middle;\n",
              "    }\n",
              "\n",
              "    .dataframe tbody tr th {\n",
              "        vertical-align: top;\n",
              "    }\n",
              "\n",
              "    .dataframe thead th {\n",
              "        text-align: right;\n",
              "    }\n",
              "</style>\n",
              "<table border=\"1\" class=\"dataframe\">\n",
              "  <thead>\n",
              "    <tr style=\"text-align: right;\">\n",
              "      <th></th>\n",
              "      <th>state_1</th>\n",
              "      <th>District</th>\n",
              "      <th>Sector</th>\n",
              "      <th>Region</th>\n",
              "      <th>State_Region</th>\n",
              "      <th>ricetotal_q</th>\n",
              "      <th>wheattotal_q</th>\n",
              "      <th>moong_q</th>\n",
              "      <th>Milktotal_q</th>\n",
              "      <th>chicken_q</th>\n",
              "      <th>bread_q</th>\n",
              "      <th>foodtotal_q</th>\n",
              "      <th>Beveragestotal_v</th>\n",
              "      <th>Meals_At_Home</th>\n",
              "      <th>total_consumption</th>\n",
              "    </tr>\n",
              "  </thead>\n",
              "  <tbody>\n",
              "    <tr>\n",
              "      <th>17685</th>\n",
              "      <td>MEG</td>\n",
              "      <td>6</td>\n",
              "      <td>RURAL</td>\n",
              "      <td>1</td>\n",
              "      <td>171</td>\n",
              "      <td>10.000000</td>\n",
              "      <td>1.666667</td>\n",
              "      <td>1.000000</td>\n",
              "      <td>0</td>\n",
              "      <td>0.333333</td>\n",
              "      <td>0.666667</td>\n",
              "      <td>29.850725</td>\n",
              "      <td>40.020000</td>\n",
              "      <td>60.0</td>\n",
              "      <td>83.537392</td>\n",
              "    </tr>\n",
              "    <tr>\n",
              "      <th>17686</th>\n",
              "      <td>MEG</td>\n",
              "      <td>6</td>\n",
              "      <td>RURAL</td>\n",
              "      <td>1</td>\n",
              "      <td>171</td>\n",
              "      <td>7.600000</td>\n",
              "      <td>1.200000</td>\n",
              "      <td>0.200000</td>\n",
              "      <td>0</td>\n",
              "      <td>0.000000</td>\n",
              "      <td>0.800000</td>\n",
              "      <td>30.091070</td>\n",
              "      <td>30.014000</td>\n",
              "      <td>60.0</td>\n",
              "      <td>69.905070</td>\n",
              "    </tr>\n",
              "    <tr>\n",
              "      <th>17687</th>\n",
              "      <td>MEG</td>\n",
              "      <td>6</td>\n",
              "      <td>RURAL</td>\n",
              "      <td>1</td>\n",
              "      <td>171</td>\n",
              "      <td>8.000000</td>\n",
              "      <td>0.750000</td>\n",
              "      <td>0.250000</td>\n",
              "      <td>0</td>\n",
              "      <td>0.000000</td>\n",
              "      <td>0.250000</td>\n",
              "      <td>24.750700</td>\n",
              "      <td>12.511250</td>\n",
              "      <td>60.0</td>\n",
              "      <td>46.511950</td>\n",
              "    </tr>\n",
              "    <tr>\n",
              "      <th>17688</th>\n",
              "      <td>MEG</td>\n",
              "      <td>6</td>\n",
              "      <td>RURAL</td>\n",
              "      <td>1</td>\n",
              "      <td>171</td>\n",
              "      <td>5.000000</td>\n",
              "      <td>4.000000</td>\n",
              "      <td>0.333333</td>\n",
              "      <td>0</td>\n",
              "      <td>0.666667</td>\n",
              "      <td>0.000000</td>\n",
              "      <td>23.234217</td>\n",
              "      <td>43.340000</td>\n",
              "      <td>60.0</td>\n",
              "      <td>76.574217</td>\n",
              "    </tr>\n",
              "    <tr>\n",
              "      <th>17690</th>\n",
              "      <td>MEG</td>\n",
              "      <td>6</td>\n",
              "      <td>RURAL</td>\n",
              "      <td>1</td>\n",
              "      <td>171</td>\n",
              "      <td>7.583333</td>\n",
              "      <td>0.500000</td>\n",
              "      <td>0.166667</td>\n",
              "      <td>0</td>\n",
              "      <td>0.166667</td>\n",
              "      <td>0.083333</td>\n",
              "      <td>20.300346</td>\n",
              "      <td>58.333333</td>\n",
              "      <td>60.0</td>\n",
              "      <td>87.133679</td>\n",
              "    </tr>\n",
              "  </tbody>\n",
              "</table>\n",
              "</div>"
            ],
            "text/plain": [
              "      state_1  District Sector  Region  State_Region  ricetotal_q  \\\n",
              "17685     MEG         6  RURAL       1           171    10.000000   \n",
              "17686     MEG         6  RURAL       1           171     7.600000   \n",
              "17687     MEG         6  RURAL       1           171     8.000000   \n",
              "17688     MEG         6  RURAL       1           171     5.000000   \n",
              "17690     MEG         6  RURAL       1           171     7.583333   \n",
              "\n",
              "       wheattotal_q   moong_q  Milktotal_q  chicken_q   bread_q  foodtotal_q  \\\n",
              "17685      1.666667  1.000000            0   0.333333  0.666667    29.850725   \n",
              "17686      1.200000  0.200000            0   0.000000  0.800000    30.091070   \n",
              "17687      0.750000  0.250000            0   0.000000  0.250000    24.750700   \n",
              "17688      4.000000  0.333333            0   0.666667  0.000000    23.234217   \n",
              "17690      0.500000  0.166667            0   0.166667  0.083333    20.300346   \n",
              "\n",
              "       Beveragestotal_v  Meals_At_Home  total_consumption  \n",
              "17685         40.020000           60.0          83.537392  \n",
              "17686         30.014000           60.0          69.905070  \n",
              "17687         12.511250           60.0          46.511950  \n",
              "17688         43.340000           60.0          76.574217  \n",
              "17690         58.333333           60.0          87.133679  "
            ]
          },
          "execution_count": 313,
          "metadata": {},
          "output_type": "execute_result"
        }
      ],
      "source": [
        "MEG_clean.head()"
      ]
    },
    {
      "cell_type": "code",
      "execution_count": 314,
      "metadata": {
        "colab": {
          "base_uri": "https://localhost:8080/",
          "height": 175
        },
        "id": "e6KfBUEMQczN",
        "outputId": "aa456c23-9e27-4aad-fb56-718b0f243b29"
      },
      "outputs": [
        {
          "data": {
            "text/html": [
              "<div>\n",
              "<style scoped>\n",
              "    .dataframe tbody tr th:only-of-type {\n",
              "        vertical-align: middle;\n",
              "    }\n",
              "\n",
              "    .dataframe tbody tr th {\n",
              "        vertical-align: top;\n",
              "    }\n",
              "\n",
              "    .dataframe thead tr th {\n",
              "        text-align: left;\n",
              "    }\n",
              "\n",
              "    .dataframe thead tr:last-of-type th {\n",
              "        text-align: right;\n",
              "    }\n",
              "</style>\n",
              "<table border=\"1\" class=\"dataframe\">\n",
              "  <thead>\n",
              "    <tr>\n",
              "      <th></th>\n",
              "      <th colspan=\"4\" halign=\"left\">total_consumption</th>\n",
              "    </tr>\n",
              "    <tr>\n",
              "      <th></th>\n",
              "      <th>std</th>\n",
              "      <th>mean</th>\n",
              "      <th>max</th>\n",
              "      <th>min</th>\n",
              "    </tr>\n",
              "    <tr>\n",
              "      <th>Region</th>\n",
              "      <th></th>\n",
              "      <th></th>\n",
              "      <th></th>\n",
              "      <th></th>\n",
              "    </tr>\n",
              "  </thead>\n",
              "  <tbody>\n",
              "    <tr>\n",
              "      <th>1</th>\n",
              "      <td>17.782264</td>\n",
              "      <td>54.237474</td>\n",
              "      <td>115.360572</td>\n",
              "      <td>0.0</td>\n",
              "    </tr>\n",
              "  </tbody>\n",
              "</table>\n",
              "</div>"
            ],
            "text/plain": [
              "       total_consumption                            \n",
              "                     std       mean         max  min\n",
              "Region                                              \n",
              "1              17.782264  54.237474  115.360572  0.0"
            ]
          },
          "execution_count": 314,
          "metadata": {},
          "output_type": "execute_result"
        }
      ],
      "source": [
        "MEG_clean.groupby('Region').agg({'total_consumption':['std','mean','max','min']})"
      ]
    },
    {
      "cell_type": "code",
      "execution_count": 315,
      "metadata": {
        "colab": {
          "base_uri": "https://localhost:8080/",
          "height": 1000
        },
        "id": "IRAnJ4bbRFCd",
        "outputId": "f2d7ca5b-649f-4360-c337-b6466831dbf4"
      },
      "outputs": [
        {
          "data": {
            "text/html": [
              "<div>\n",
              "<style scoped>\n",
              "    .dataframe tbody tr th:only-of-type {\n",
              "        vertical-align: middle;\n",
              "    }\n",
              "\n",
              "    .dataframe tbody tr th {\n",
              "        vertical-align: top;\n",
              "    }\n",
              "\n",
              "    .dataframe thead tr th {\n",
              "        text-align: left;\n",
              "    }\n",
              "\n",
              "    .dataframe thead tr:last-of-type th {\n",
              "        text-align: right;\n",
              "    }\n",
              "</style>\n",
              "<table border=\"1\" class=\"dataframe\">\n",
              "  <thead>\n",
              "    <tr>\n",
              "      <th></th>\n",
              "      <th colspan=\"4\" halign=\"left\">total_consumption</th>\n",
              "    </tr>\n",
              "    <tr>\n",
              "      <th></th>\n",
              "      <th>std</th>\n",
              "      <th>mean</th>\n",
              "      <th>max</th>\n",
              "      <th>min</th>\n",
              "    </tr>\n",
              "    <tr>\n",
              "      <th>District</th>\n",
              "      <th></th>\n",
              "      <th></th>\n",
              "      <th></th>\n",
              "      <th></th>\n",
              "    </tr>\n",
              "  </thead>\n",
              "  <tbody>\n",
              "    <tr>\n",
              "      <th>1</th>\n",
              "      <td>16.913534</td>\n",
              "      <td>62.167749</td>\n",
              "      <td>115.360572</td>\n",
              "      <td>30.200165</td>\n",
              "    </tr>\n",
              "    <tr>\n",
              "      <th>2</th>\n",
              "      <td>15.589422</td>\n",
              "      <td>61.962874</td>\n",
              "      <td>114.844972</td>\n",
              "      <td>34.121701</td>\n",
              "    </tr>\n",
              "    <tr>\n",
              "      <th>3</th>\n",
              "      <td>16.110414</td>\n",
              "      <td>58.436434</td>\n",
              "      <td>100.521829</td>\n",
              "      <td>27.139304</td>\n",
              "    </tr>\n",
              "    <tr>\n",
              "      <th>4</th>\n",
              "      <td>15.069112</td>\n",
              "      <td>45.942231</td>\n",
              "      <td>99.900705</td>\n",
              "      <td>20.964404</td>\n",
              "    </tr>\n",
              "    <tr>\n",
              "      <th>5</th>\n",
              "      <td>15.906782</td>\n",
              "      <td>45.576013</td>\n",
              "      <td>104.733858</td>\n",
              "      <td>22.950116</td>\n",
              "    </tr>\n",
              "    <tr>\n",
              "      <th>6</th>\n",
              "      <td>18.332642</td>\n",
              "      <td>56.128705</td>\n",
              "      <td>103.750388</td>\n",
              "      <td>0.000000</td>\n",
              "    </tr>\n",
              "    <tr>\n",
              "      <th>7</th>\n",
              "      <td>13.949055</td>\n",
              "      <td>45.485462</td>\n",
              "      <td>93.400180</td>\n",
              "      <td>22.338088</td>\n",
              "    </tr>\n",
              "  </tbody>\n",
              "</table>\n",
              "</div>"
            ],
            "text/plain": [
              "         total_consumption                                  \n",
              "                       std       mean         max        min\n",
              "District                                                    \n",
              "1                16.913534  62.167749  115.360572  30.200165\n",
              "2                15.589422  61.962874  114.844972  34.121701\n",
              "3                16.110414  58.436434  100.521829  27.139304\n",
              "4                15.069112  45.942231   99.900705  20.964404\n",
              "5                15.906782  45.576013  104.733858  22.950116\n",
              "6                18.332642  56.128705  103.750388   0.000000\n",
              "7                13.949055  45.485462   93.400180  22.338088"
            ]
          },
          "execution_count": 315,
          "metadata": {},
          "output_type": "execute_result"
        }
      ],
      "source": [
        "MEG_clean.groupby('District').agg({'total_consumption':['std','mean','max','min']})"
      ]
    },
    {
      "cell_type": "markdown",
      "metadata": {
        "id": "x9n1N9O---43"
      },
      "source": [
        "#RENAMING DISTRICTS & SECTORS USING CODES FROM APPENDIX-NSSO68#"
      ]
    },
    {
      "cell_type": "code",
      "execution_count": 316,
      "metadata": {
        "id": "5hJyk8I0RY0_"
      },
      "outputs": [],
      "source": [
        "MEG_clean.loc[:,\"District\"] = MEG_clean.loc[:,\"District\"].replace({1: \"West Garo Hills\", 2: \"East Garo Hills\", 3: \"South Garo Hills\", 4: \"West Khasi Hills\", 5: \"Ri Bhoi\", 6: \"East Khasi Hills\", 7: \"Jaintia Hills\"})\n",
        "total_consumption_by_districtname=MEG_clean.groupby('District')['total_consumption'].sum()"
      ]
    },
    {
      "cell_type": "markdown",
      "metadata": {
        "id": "1w9PTwf6UppY"
      },
      "source": [
        "#DISPLAYING TOP 3 AND LAST 3 DISTRICTS OF CONSUMPTION#"
      ]
    },
    {
      "cell_type": "code",
      "execution_count": 317,
      "metadata": {
        "id": "J6Rm-adARQb2"
      },
      "outputs": [],
      "source": [
        "total_consumption_by_districtcode=MEG_clean.groupby('District')['total_consumption'].sum()"
      ]
    },
    {
      "cell_type": "code",
      "execution_count": 318,
      "metadata": {
        "colab": {
          "base_uri": "https://localhost:8080/"
        },
        "id": "cDmiwM1yRY2q",
        "outputId": "a84e0d49-b560-44c5-d87a-334d6376a24e"
      },
      "outputs": [
        {
          "data": {
            "text/plain": [
              "District\n",
              "East Khasi Hills    18634.730139\n",
              "West Garo Hills     13925.575739\n",
              "East Garo Hills      7621.433516\n",
              "Name: total_consumption, dtype: float64"
            ]
          },
          "execution_count": 318,
          "metadata": {},
          "output_type": "execute_result"
        }
      ],
      "source": [
        "total_consumption_by_districtcode.sort_values(ascending=False).head(3)"
      ]
    },
    {
      "cell_type": "code",
      "execution_count": 319,
      "metadata": {
        "colab": {
          "base_uri": "https://localhost:8080/"
        },
        "id": "TUJJay07Yhxk",
        "outputId": "d761796d-9881-40f0-f92c-1a888033c922"
      },
      "outputs": [
        {
          "data": {
            "text/plain": [
              "District\n",
              "Jaintia Hills       6913.790299\n",
              "Ri Bhoi             5742.577640\n",
              "South Garo Hills    5142.406151\n",
              "Name: total_consumption, dtype: float64"
            ]
          },
          "execution_count": 319,
          "metadata": {},
          "output_type": "execute_result"
        }
      ],
      "source": [
        "total_consumption_by_districtcode.sort_values(ascending=False).tail(3)"
      ]
    },
    {
      "cell_type": "code",
      "execution_count": 320,
      "metadata": {
        "id": "PJP0jIhlRrBP"
      },
      "outputs": [],
      "source": [
        "from statsmodels.stats import weightstats as stests\n",
        "rural=MEG_clean[MEG_clean['Sector']==\"RURAL\"]\n",
        "urban=MEG_clean[MEG_clean['Sector']==\"URBAN\"]"
      ]
    },
    {
      "cell_type": "code",
      "execution_count": 321,
      "metadata": {
        "colab": {
          "base_uri": "https://localhost:8080/",
          "height": 206
        },
        "id": "IlaWt6G0Rq_b",
        "outputId": "baae17f5-07da-442a-9ce2-30bc7bebb9a9"
      },
      "outputs": [
        {
          "data": {
            "text/html": [
              "<div>\n",
              "<style scoped>\n",
              "    .dataframe tbody tr th:only-of-type {\n",
              "        vertical-align: middle;\n",
              "    }\n",
              "\n",
              "    .dataframe tbody tr th {\n",
              "        vertical-align: top;\n",
              "    }\n",
              "\n",
              "    .dataframe thead th {\n",
              "        text-align: right;\n",
              "    }\n",
              "</style>\n",
              "<table border=\"1\" class=\"dataframe\">\n",
              "  <thead>\n",
              "    <tr style=\"text-align: right;\">\n",
              "      <th></th>\n",
              "      <th>state_1</th>\n",
              "      <th>District</th>\n",
              "      <th>Sector</th>\n",
              "      <th>Region</th>\n",
              "      <th>State_Region</th>\n",
              "      <th>ricetotal_q</th>\n",
              "      <th>wheattotal_q</th>\n",
              "      <th>moong_q</th>\n",
              "      <th>Milktotal_q</th>\n",
              "      <th>chicken_q</th>\n",
              "      <th>bread_q</th>\n",
              "      <th>foodtotal_q</th>\n",
              "      <th>Beveragestotal_v</th>\n",
              "      <th>Meals_At_Home</th>\n",
              "      <th>total_consumption</th>\n",
              "    </tr>\n",
              "  </thead>\n",
              "  <tbody>\n",
              "    <tr>\n",
              "      <th>17685</th>\n",
              "      <td>MEG</td>\n",
              "      <td>East Khasi Hills</td>\n",
              "      <td>RURAL</td>\n",
              "      <td>1</td>\n",
              "      <td>171</td>\n",
              "      <td>10.000000</td>\n",
              "      <td>1.666667</td>\n",
              "      <td>1.000000</td>\n",
              "      <td>0</td>\n",
              "      <td>0.333333</td>\n",
              "      <td>0.666667</td>\n",
              "      <td>29.850725</td>\n",
              "      <td>40.020000</td>\n",
              "      <td>60.0</td>\n",
              "      <td>83.537392</td>\n",
              "    </tr>\n",
              "    <tr>\n",
              "      <th>17686</th>\n",
              "      <td>MEG</td>\n",
              "      <td>East Khasi Hills</td>\n",
              "      <td>RURAL</td>\n",
              "      <td>1</td>\n",
              "      <td>171</td>\n",
              "      <td>7.600000</td>\n",
              "      <td>1.200000</td>\n",
              "      <td>0.200000</td>\n",
              "      <td>0</td>\n",
              "      <td>0.000000</td>\n",
              "      <td>0.800000</td>\n",
              "      <td>30.091070</td>\n",
              "      <td>30.014000</td>\n",
              "      <td>60.0</td>\n",
              "      <td>69.905070</td>\n",
              "    </tr>\n",
              "    <tr>\n",
              "      <th>17687</th>\n",
              "      <td>MEG</td>\n",
              "      <td>East Khasi Hills</td>\n",
              "      <td>RURAL</td>\n",
              "      <td>1</td>\n",
              "      <td>171</td>\n",
              "      <td>8.000000</td>\n",
              "      <td>0.750000</td>\n",
              "      <td>0.250000</td>\n",
              "      <td>0</td>\n",
              "      <td>0.000000</td>\n",
              "      <td>0.250000</td>\n",
              "      <td>24.750700</td>\n",
              "      <td>12.511250</td>\n",
              "      <td>60.0</td>\n",
              "      <td>46.511950</td>\n",
              "    </tr>\n",
              "    <tr>\n",
              "      <th>17688</th>\n",
              "      <td>MEG</td>\n",
              "      <td>East Khasi Hills</td>\n",
              "      <td>RURAL</td>\n",
              "      <td>1</td>\n",
              "      <td>171</td>\n",
              "      <td>5.000000</td>\n",
              "      <td>4.000000</td>\n",
              "      <td>0.333333</td>\n",
              "      <td>0</td>\n",
              "      <td>0.666667</td>\n",
              "      <td>0.000000</td>\n",
              "      <td>23.234217</td>\n",
              "      <td>43.340000</td>\n",
              "      <td>60.0</td>\n",
              "      <td>76.574217</td>\n",
              "    </tr>\n",
              "    <tr>\n",
              "      <th>17690</th>\n",
              "      <td>MEG</td>\n",
              "      <td>East Khasi Hills</td>\n",
              "      <td>RURAL</td>\n",
              "      <td>1</td>\n",
              "      <td>171</td>\n",
              "      <td>7.583333</td>\n",
              "      <td>0.500000</td>\n",
              "      <td>0.166667</td>\n",
              "      <td>0</td>\n",
              "      <td>0.166667</td>\n",
              "      <td>0.083333</td>\n",
              "      <td>20.300346</td>\n",
              "      <td>58.333333</td>\n",
              "      <td>60.0</td>\n",
              "      <td>87.133679</td>\n",
              "    </tr>\n",
              "  </tbody>\n",
              "</table>\n",
              "</div>"
            ],
            "text/plain": [
              "      state_1          District Sector  Region  State_Region  ricetotal_q  \\\n",
              "17685     MEG  East Khasi Hills  RURAL       1           171    10.000000   \n",
              "17686     MEG  East Khasi Hills  RURAL       1           171     7.600000   \n",
              "17687     MEG  East Khasi Hills  RURAL       1           171     8.000000   \n",
              "17688     MEG  East Khasi Hills  RURAL       1           171     5.000000   \n",
              "17690     MEG  East Khasi Hills  RURAL       1           171     7.583333   \n",
              "\n",
              "       wheattotal_q   moong_q  Milktotal_q  chicken_q   bread_q  foodtotal_q  \\\n",
              "17685      1.666667  1.000000            0   0.333333  0.666667    29.850725   \n",
              "17686      1.200000  0.200000            0   0.000000  0.800000    30.091070   \n",
              "17687      0.750000  0.250000            0   0.000000  0.250000    24.750700   \n",
              "17688      4.000000  0.333333            0   0.666667  0.000000    23.234217   \n",
              "17690      0.500000  0.166667            0   0.166667  0.083333    20.300346   \n",
              "\n",
              "       Beveragestotal_v  Meals_At_Home  total_consumption  \n",
              "17685         40.020000           60.0          83.537392  \n",
              "17686         30.014000           60.0          69.905070  \n",
              "17687         12.511250           60.0          46.511950  \n",
              "17688         43.340000           60.0          76.574217  \n",
              "17690         58.333333           60.0          87.133679  "
            ]
          },
          "execution_count": 321,
          "metadata": {},
          "output_type": "execute_result"
        }
      ],
      "source": [
        "rural.head()"
      ]
    },
    {
      "cell_type": "code",
      "execution_count": 322,
      "metadata": {
        "colab": {
          "base_uri": "https://localhost:8080/",
          "height": 226
        },
        "id": "6xfjI3svRq7y",
        "outputId": "40015343-9f91-434e-ba2c-44f9013063aa"
      },
      "outputs": [
        {
          "data": {
            "text/html": [
              "<div>\n",
              "<style scoped>\n",
              "    .dataframe tbody tr th:only-of-type {\n",
              "        vertical-align: middle;\n",
              "    }\n",
              "\n",
              "    .dataframe tbody tr th {\n",
              "        vertical-align: top;\n",
              "    }\n",
              "\n",
              "    .dataframe thead th {\n",
              "        text-align: right;\n",
              "    }\n",
              "</style>\n",
              "<table border=\"1\" class=\"dataframe\">\n",
              "  <thead>\n",
              "    <tr style=\"text-align: right;\">\n",
              "      <th></th>\n",
              "      <th>state_1</th>\n",
              "      <th>District</th>\n",
              "      <th>Sector</th>\n",
              "      <th>Region</th>\n",
              "      <th>State_Region</th>\n",
              "      <th>ricetotal_q</th>\n",
              "      <th>wheattotal_q</th>\n",
              "      <th>moong_q</th>\n",
              "      <th>Milktotal_q</th>\n",
              "      <th>chicken_q</th>\n",
              "      <th>bread_q</th>\n",
              "      <th>foodtotal_q</th>\n",
              "      <th>Beveragestotal_v</th>\n",
              "      <th>Meals_At_Home</th>\n",
              "      <th>total_consumption</th>\n",
              "    </tr>\n",
              "  </thead>\n",
              "  <tbody>\n",
              "    <tr>\n",
              "      <th>47557</th>\n",
              "      <td>MEG</td>\n",
              "      <td>Ri Bhoi</td>\n",
              "      <td>URBAN</td>\n",
              "      <td>1</td>\n",
              "      <td>171</td>\n",
              "      <td>10.333333</td>\n",
              "      <td>0.333333</td>\n",
              "      <td>0.00</td>\n",
              "      <td>0</td>\n",
              "      <td>0.000000</td>\n",
              "      <td>0.0</td>\n",
              "      <td>16.453667</td>\n",
              "      <td>25.000000</td>\n",
              "      <td>56.0</td>\n",
              "      <td>52.120333</td>\n",
              "    </tr>\n",
              "    <tr>\n",
              "      <th>47558</th>\n",
              "      <td>MEG</td>\n",
              "      <td>Ri Bhoi</td>\n",
              "      <td>URBAN</td>\n",
              "      <td>1</td>\n",
              "      <td>171</td>\n",
              "      <td>10.333333</td>\n",
              "      <td>0.166667</td>\n",
              "      <td>0.00</td>\n",
              "      <td>0</td>\n",
              "      <td>0.166667</td>\n",
              "      <td>0.0</td>\n",
              "      <td>16.075208</td>\n",
              "      <td>16.666667</td>\n",
              "      <td>56.0</td>\n",
              "      <td>43.408542</td>\n",
              "    </tr>\n",
              "    <tr>\n",
              "      <th>47559</th>\n",
              "      <td>MEG</td>\n",
              "      <td>Ri Bhoi</td>\n",
              "      <td>URBAN</td>\n",
              "      <td>1</td>\n",
              "      <td>171</td>\n",
              "      <td>11.000000</td>\n",
              "      <td>0.000000</td>\n",
              "      <td>0.00</td>\n",
              "      <td>0</td>\n",
              "      <td>0.200000</td>\n",
              "      <td>0.0</td>\n",
              "      <td>15.510260</td>\n",
              "      <td>20.000000</td>\n",
              "      <td>56.0</td>\n",
              "      <td>46.710260</td>\n",
              "    </tr>\n",
              "    <tr>\n",
              "      <th>47560</th>\n",
              "      <td>MEG</td>\n",
              "      <td>Ri Bhoi</td>\n",
              "      <td>URBAN</td>\n",
              "      <td>1</td>\n",
              "      <td>171</td>\n",
              "      <td>10.571429</td>\n",
              "      <td>0.142857</td>\n",
              "      <td>0.00</td>\n",
              "      <td>0</td>\n",
              "      <td>0.142857</td>\n",
              "      <td>0.0</td>\n",
              "      <td>14.043043</td>\n",
              "      <td>17.142857</td>\n",
              "      <td>56.0</td>\n",
              "      <td>42.043043</td>\n",
              "    </tr>\n",
              "    <tr>\n",
              "      <th>47561</th>\n",
              "      <td>MEG</td>\n",
              "      <td>Ri Bhoi</td>\n",
              "      <td>URBAN</td>\n",
              "      <td>1</td>\n",
              "      <td>171</td>\n",
              "      <td>10.500000</td>\n",
              "      <td>0.000000</td>\n",
              "      <td>0.15</td>\n",
              "      <td>0</td>\n",
              "      <td>0.200000</td>\n",
              "      <td>0.0</td>\n",
              "      <td>14.055183</td>\n",
              "      <td>11.000000</td>\n",
              "      <td>60.0</td>\n",
              "      <td>35.905183</td>\n",
              "    </tr>\n",
              "  </tbody>\n",
              "</table>\n",
              "</div>"
            ],
            "text/plain": [
              "      state_1 District Sector  Region  State_Region  ricetotal_q  \\\n",
              "47557     MEG  Ri Bhoi  URBAN       1           171    10.333333   \n",
              "47558     MEG  Ri Bhoi  URBAN       1           171    10.333333   \n",
              "47559     MEG  Ri Bhoi  URBAN       1           171    11.000000   \n",
              "47560     MEG  Ri Bhoi  URBAN       1           171    10.571429   \n",
              "47561     MEG  Ri Bhoi  URBAN       1           171    10.500000   \n",
              "\n",
              "       wheattotal_q  moong_q  Milktotal_q  chicken_q  bread_q  foodtotal_q  \\\n",
              "47557      0.333333     0.00            0   0.000000      0.0    16.453667   \n",
              "47558      0.166667     0.00            0   0.166667      0.0    16.075208   \n",
              "47559      0.000000     0.00            0   0.200000      0.0    15.510260   \n",
              "47560      0.142857     0.00            0   0.142857      0.0    14.043043   \n",
              "47561      0.000000     0.15            0   0.200000      0.0    14.055183   \n",
              "\n",
              "       Beveragestotal_v  Meals_At_Home  total_consumption  \n",
              "47557         25.000000           56.0          52.120333  \n",
              "47558         16.666667           56.0          43.408542  \n",
              "47559         20.000000           56.0          46.710260  \n",
              "47560         17.142857           56.0          42.043043  \n",
              "47561         11.000000           60.0          35.905183  "
            ]
          },
          "execution_count": 322,
          "metadata": {},
          "output_type": "execute_result"
        }
      ],
      "source": [
        "urban.head()"
      ]
    },
    {
      "cell_type": "markdown",
      "metadata": {
        "id": "SB7mNDqTVGPh"
      },
      "source": [
        "#TEST FOR DIFFERENCES IN MEAN CONSUMPTION AMONG RURAL AND URBAN SECTORS#"
      ]
    },
    {
      "cell_type": "code",
      "execution_count": 323,
      "metadata": {
        "colab": {
          "base_uri": "https://localhost:8080/"
        },
        "id": "DTh5v0vFRq6J",
        "outputId": "8088deb3-5428-49ca-afe7-ec5c666413ff"
      },
      "outputs": [
        {
          "name": "stdout",
          "output_type": "stream",
          "text": [
            "Z-Score: 2.006802685776415\n",
            "P-Value: 0.04477067678874531\n"
          ]
        }
      ],
      "source": [
        "cons_rural=rural['total_consumption']\n",
        "cons_urban=urban['total_consumption']\n",
        "\n",
        "z_statistic, p_value = stests.ztest(cons_rural, cons_urban)\n",
        "# Print the z-score and p-value\n",
        "print(\"Z-Score:\", z_statistic)\n",
        "print(\"P-Value:\", p_value)"
      ]
    },
    {
      "cell_type": "code",
      "execution_count": 324,
      "metadata": {
        "colab": {
          "base_uri": "https://localhost:8080/"
        },
        "id": "z689CWZme0uh",
        "outputId": "37676862-df6c-4890-9523-6a3d425a97a8"
      },
      "outputs": [
        {
          "name": "stdout",
          "output_type": "stream",
          "text": [
            "Reject Ho: There is a significant difference between mean consumptions of urban and rural sectors.\n"
          ]
        }
      ],
      "source": [
        "# H1: There is a significant difference between mean consumptions of urban and rural sectors\n",
        "# Ho: There is no significant difference between mean consumptions of urban and rural sectors\n",
        "\n",
        "# Checking p-value against significance level(0.05)\n",
        "if p_value < 0.05:\n",
        "    print(\"Reject Ho: There is a significant difference between mean consumptions of urban and rural sectors.\")\n",
        "else:\n",
        "    print(\"Fail to reject Ho: There is no significant difference between mean consumptions of urban and rural sectors.\")"
      ]
    },
    {
      "cell_type": "markdown",
      "metadata": {},
      "source": [
        "INFERENCE : Since Pvalue is less that 0.05 we conclude that there is a significant difference between mean consumptions of urban and rural sectors.This conclusion implies\n",
        "that the data provides sufficient evidence to reject the idea that there is no difference in mean consumptions between urban and rural sectors. Instead, it suggests that there \n",
        " is indeed a meaningful difference between these two groups in terms of consumption levels."
      ]
    }
  ],
  "metadata": {
    "colab": {
      "provenance": []
    },
    "kernelspec": {
      "display_name": "Python 3",
      "name": "python3"
    },
    "language_info": {
      "codemirror_mode": {
        "name": "ipython",
        "version": 3
      },
      "file_extension": ".py",
      "mimetype": "text/x-python",
      "name": "python",
      "nbconvert_exporter": "python",
      "pygments_lexer": "ipython3",
      "version": "3.11.5"
    }
  },
  "nbformat": 4,
  "nbformat_minor": 0
}
